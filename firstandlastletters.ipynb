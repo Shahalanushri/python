{
 "cells": [
  {
   "cell_type": "code",
   "execution_count": 1,
   "id": "ccfe9fa4",
   "metadata": {},
   "outputs": [
    {
     "name": "stdout",
     "output_type": "stream",
     "text": [
      "Enter your string :apple\n",
      "aple\n"
     ]
    }
   ],
   "source": [
    "s=str(input(\"Enter your string :\"))\n",
    "a=s[0:2]\n",
    "b=s[-2:]\n",
    "print(a+s[-2:])"
   ]
  },
  {
   "cell_type": "code",
   "execution_count": null,
   "id": "e6c624f0",
   "metadata": {},
   "outputs": [],
   "source": []
  }
 ],
 "metadata": {
  "kernelspec": {
   "display_name": "Python 3 (ipykernel)",
   "language": "python",
   "name": "python3"
  },
  "language_info": {
   "codemirror_mode": {
    "name": "ipython",
    "version": 3
   },
   "file_extension": ".py",
   "mimetype": "text/x-python",
   "name": "python",
   "nbconvert_exporter": "python",
   "pygments_lexer": "ipython3",
   "version": "3.11.4"
  }
 },
 "nbformat": 4,
 "nbformat_minor": 5
}
