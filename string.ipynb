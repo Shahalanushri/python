{
 "cells": [
  {
   "cell_type": "code",
   "execution_count": 2,
   "id": "0665fd66",
   "metadata": {},
   "outputs": [
    {
     "name": "stdout",
     "output_type": "stream",
     "text": [
      "Enter yor stringigha\n",
      "aghi\n"
     ]
    }
   ],
   "source": [
    "s=str(input(\"Enter yor string\"))\n",
    "a=s[0]\n",
    "b=s[-1]\n",
    "print(b+s[1:-1]+a)"
   ]
  },
  {
   "cell_type": "code",
   "execution_count": null,
   "id": "f6046cfe",
   "metadata": {},
   "outputs": [],
   "source": []
  },
  {
   "cell_type": "code",
   "execution_count": null,
   "id": "8b9461f6",
   "metadata": {},
   "outputs": [],
   "source": []
  },
  {
   "cell_type": "code",
   "execution_count": null,
   "id": "6b4497a6",
   "metadata": {},
   "outputs": [],
   "source": []
  }
 ],
 "metadata": {
  "kernelspec": {
   "display_name": "Python 3 (ipykernel)",
   "language": "python",
   "name": "python3"
  },
  "language_info": {
   "codemirror_mode": {
    "name": "ipython",
    "version": 3
   },
   "file_extension": ".py",
   "mimetype": "text/x-python",
   "name": "python",
   "nbconvert_exporter": "python",
   "pygments_lexer": "ipython3",
   "version": "3.11.4"
  }
 },
 "nbformat": 4,
 "nbformat_minor": 5
}
