{
 "cells": [
  {
   "cell_type": "code",
   "execution_count": 4,
   "id": "3bd52842",
   "metadata": {},
   "outputs": [
    {
     "name": "stdout",
     "output_type": "stream",
     "text": [
      "Enter numbers with comma seperation:-2,3,5,6\n",
      "positive integers from the given list are:  [3, 5, 6]\n",
      "square of numbes in the list is; [4, 9, 25, 36]\n",
      "Enter the word: nushri\n",
      "vowel in nushri are ['u', 'i']\n",
      "ordinal values of  ['n', 'u', 's', 'h', 'r', 'i'] are: [110, 117, 115, 104, 114, 105]\n"
     ]
    }
   ],
   "source": [
    "#Using listcomprehension\n",
    "#List of positive numbers\n",
    "n=input(\"Enter numbers with comma seperation:\").split(\",\")\n",
    "a=map(int,n)\n",
    "new1=[x for x in a if x>0]\n",
    "print(\"positive integers from the given list are: \",new1)\n",
    "d=map(int,n)\n",
    "\n",
    "#Square of n numbers\n",
    "new2=[x**2 for x in d]\n",
    "print(\"square of numbes in the list is;\",new2)\n",
    "\n",
    "#list of vowels\n",
    "vw=input(\"Enter the word: \")\n",
    "vw1=[x for x in vw]\n",
    "vowel=['a','e','i','o','u','A','E','I','O','U']\n",
    "vw2=[x for x in vw1 if x in vowel]\n",
    "print(\"vowel in\",vw,\"are\",vw2)\n",
    "\n",
    "#ordinal values\n",
    "ordinal=[ord(x) for x in vw1]\n",
    "print(\"ordinal values of \",vw1,\"are:\",ordinal)"
   ]
  },
  {
   "cell_type": "code",
   "execution_count": 8,
   "id": "33e620ff",
   "metadata": {},
   "outputs": [
    {
     "name": "stdout",
     "output_type": "stream",
     "text": [
      "Enter numbers with comma seperated:1,22,3,4,5,6,7,8,9\n",
      "List 1 [1, 22, 3, 4, 5, 6, 7, 8, 9]\n",
      "List after removing even numbers= [1, 3, 5, 7, 9]\n"
     ]
    }
   ],
   "source": [
    "#Remove even numbers from list\n",
    "n=input(\"Enter numbers with comma seperated:\").split(\",\")\n",
    "a=map(int,n)\n",
    "list1=[x for x in a ]\n",
    "print(\"List 1\",list1)\n",
    "for even in list1:\n",
    "    if(even%2==0):\n",
    "        list1.remove(even)\n",
    "print(\"List after removing even numbers=\",list1)"
   ]
  },
  {
   "cell_type": "code",
   "execution_count": 10,
   "id": "fd398cf2",
   "metadata": {},
   "outputs": [
    {
     "name": "stdout",
     "output_type": "stream",
     "text": [
      "Enter colors for first set with comma seperated: pink,blue,black,white\n",
      "Enter colors for second set with comma seperated: red,green,lavender\n",
      "Difference of  {'black', 'blue', 'white', 'pink'} and {'red', 'lavender', 'green'} :\n",
      "{'black', 'blue', 'white', 'pink'}\n"
     ]
    }
   ],
   "source": [
    "#Print out all colors from color-list not contained in color-list2\n",
    "c1=set(input('Enter colors for first set with comma seperated: ').split(','))\n",
    "c2=set(input('Enter colors for second set with comma seperated: ').split(','))\n",
    "print('Difference of ',c1,'and',c2,':')\n",
    "print(c1.difference(c2))"
   ]
  },
  {
   "cell_type": "code",
   "execution_count": 11,
   "id": "44b06c86",
   "metadata": {},
   "outputs": [
    {
     "name": "stdout",
     "output_type": "stream",
     "text": [
      "Enter first list with comma seperated:1,2,3,4,5\n",
      "Enter second list with comma seperated:2,3,4,6\n",
      "two lists have unique length\n",
      "Sum of two lists are not equal\n",
      "2 occurs in both list\n",
      "4 occurs in both list\n",
      "3 occurs in both list\n"
     ]
    }
   ],
   "source": [
    "#Check two list\n",
    "list1=set(input('Enter first list with comma seperated:').split(','))\n",
    "list2=set(input('Enter second list with comma seperated:').split(','))\n",
    "sum1=str(0)\n",
    "sum2=str(0)\n",
    "if len(list1)==len(list2):\n",
    "    print(\"both list are of equal length\")\n",
    "else:\n",
    "    print(\"two lists have unique length\")\n",
    "for x in list1:\n",
    "    sum1=sum1+x\n",
    "for x in list2:\n",
    "    sum2=sum2+x\n",
    "if sum1==sum2:\n",
    "    a=\"equal\"\n",
    "else:\n",
    "    a=\"not equal\"\n",
    "print(\"Sum of two lists are\",a)\n",
    "for x in list1:\n",
    "    for y in list2:\n",
    "        if x ==y:\n",
    "            print(y,\"occurs in both list\")"
   ]
  },
  {
   "cell_type": "code",
   "execution_count": 12,
   "id": "715ad301",
   "metadata": {},
   "outputs": [
    {
     "name": "stdout",
     "output_type": "stream",
     "text": [
      "Enter list comma seperated:igha,anghu\n",
      "{'anghu', 'igha'}\n",
      "Occurence of a in  {'anghu', 'igha'} is: 2\n"
     ]
    }
   ],
   "source": [
    "#store a list of names count the occurences of 'a' within the list\n",
    "names=set(input('Enter list comma seperated:').split(','))\n",
    "print(names)\n",
    "count=0\n",
    "for name in names:\n",
    "    count+=name.count('a')\n",
    "print(\"Occurence of a in \",names,\"is:\",count)\n"
   ]
  },
  {
   "cell_type": "code",
   "execution_count": 6,
   "id": "2ab3a7ab",
   "metadata": {},
   "outputs": [
    {
     "name": "stdout",
     "output_type": "stream",
     "text": [
      "enter an integer('enter stop to stop'):1\n",
      "enter an integer('enter stop to stop'):101\n",
      "enter an integer('enter stop to stop'):100\n",
      "enter an integer('enter stop to stop'):200\n",
      "enter an integer('enter stop to stop'):stop\n",
      "[1, 'over', 100, 'over']\n"
     ]
    }
   ],
   "source": [
    "#List of untegers value greater than 100 store 'over'\n",
    "values=[]\n",
    "while True:\n",
    "    value=input(\"enter an integer('enter stop to stop'):\")\n",
    "    if value == 'stop':\n",
    "        break\n",
    "    elif int(value)>100:\n",
    "         values.append('over')\n",
    "    else:\n",
    "        values.append(int(value))\n",
    "print(values)"
   ]
  },
  {
   "cell_type": "code",
   "execution_count": null,
   "id": "96894343",
   "metadata": {},
   "outputs": [],
   "source": []
  }
 ],
 "metadata": {
  "kernelspec": {
   "display_name": "Python 3 (ipykernel)",
   "language": "python",
   "name": "python3"
  },
  "language_info": {
   "codemirror_mode": {
    "name": "ipython",
    "version": 3
   },
   "file_extension": ".py",
   "mimetype": "text/x-python",
   "name": "python",
   "nbconvert_exporter": "python",
   "pygments_lexer": "ipython3",
   "version": "3.11.5"
  }
 },
 "nbformat": 4,
 "nbformat_minor": 5
}
