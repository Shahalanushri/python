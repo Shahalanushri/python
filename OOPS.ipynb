{
 "cells": [
  {
   "cell_type": "code",
   "execution_count": 6,
   "id": "38e6e5c9",
   "metadata": {},
   "outputs": [
    {
     "name": "stdout",
     "output_type": "stream",
     "text": [
      "Enter length of Rectangle1:2\n",
      "Enter breadth of Rectangle1:3\n",
      "Enter length of Rectangle2:4\n",
      "Enter breadth of Rectangle2:5\n",
      "Rectangle 2 is greater\n"
     ]
    }
   ],
   "source": [
    "#Class rectangle\n",
    "class rectangle():\n",
    "    def get(self,l,b):\n",
    "        self.l=l\n",
    "        self.b=b\n",
    "    def area(self,l,b):\n",
    "        return l*b\n",
    "    def perimeter(self,l,b):\n",
    "        return 2*(l+b)\n",
    "r1=rectangle()\n",
    "r2=rectangle()\n",
    "l1=int(input(\"Enter length of Rectangle1:\"))\n",
    "b1=int(input(\"Enter breadth of Rectangle1:\"))\n",
    "l2=int(input(\"Enter length of Rectangle2:\"))\n",
    "b2=int(input(\"Enter breadth of Rectangle2:\"))\n",
    "p=r1.area(l1,b1)\n",
    "q=r2.area(l2,b2)\n",
    "if(p>q):\n",
    "    print(\"Rectangle 1 is greater\")\n",
    "elif(p<q):\n",
    "    print(\"Rectangle 2 is greater\")\n",
    "else:\n",
    "    print(\"Rectangles are equal\")"
   ]
  },
  {
   "cell_type": "code",
   "execution_count": 5,
   "id": "22bd2e33",
   "metadata": {},
   "outputs": [
    {
     "name": "stdout",
     "output_type": "stream",
     "text": [
      "Enter name:NUSHRI\n",
      "Enter account number:1233\n",
      "Enter account type:SAVINGS\n",
      "Enter initial balance:200\n",
      "1.Deposit 2.Withdraw 3.Account info 4.Exit\n",
      " Choose your option:1\n",
      "Deposit amount:1000\n",
      "Initial balance: 200\n",
      "1000 is deposit\n",
      "current balance: 1200\n",
      "1.Deposit 2.Withdraw 3.Account info 4.Exit\n",
      " Choose your option:2\n",
      "withdraw amount:200\n",
      "Initial balance: 1200\n",
      "200 is withdrawed\n",
      "Current balance: 1000\n",
      "1.Deposit 2.Withdraw 3.Account info 4.Exit\n",
      " Choose your option:3\n",
      "Account holder name: NUSHRI\n",
      "Account Number: 1233\n",
      "Account type: SAVINGS\n",
      "Account Balance: 1000\n"
     ]
    },
    {
     "ename": "KeyboardInterrupt",
     "evalue": "Interrupted by user",
     "output_type": "error",
     "traceback": [
      "\u001b[0;31m---------------------------------------------------------------------------\u001b[0m",
      "\u001b[0;31mKeyboardInterrupt\u001b[0m                         Traceback (most recent call last)",
      "Cell \u001b[0;32mIn[5], line 34\u001b[0m\n\u001b[1;32m     32\u001b[0m holder\u001b[38;5;241m=\u001b[39mbankaccount(name,no,typ,bal)\n\u001b[1;32m     33\u001b[0m \u001b[38;5;28;01mwhile\u001b[39;00m(\u001b[38;5;28;01mTrue\u001b[39;00m):\n\u001b[0;32m---> 34\u001b[0m     ch\u001b[38;5;241m=\u001b[39m\u001b[38;5;28mint\u001b[39m(\u001b[38;5;28minput\u001b[39m(\u001b[38;5;124m\"\u001b[39m\u001b[38;5;124m1.Deposit 2.Withdraw 3.Account info 4.Exit\u001b[39m\u001b[38;5;130;01m\\n\u001b[39;00m\u001b[38;5;124m Choose your option:\u001b[39m\u001b[38;5;124m\"\u001b[39m))\n\u001b[1;32m     35\u001b[0m     \u001b[38;5;28;01mif\u001b[39;00m ch\u001b[38;5;241m==\u001b[39m\u001b[38;5;241m1\u001b[39m:\n\u001b[1;32m     36\u001b[0m         amount\u001b[38;5;241m=\u001b[39m\u001b[38;5;28mint\u001b[39m(\u001b[38;5;28minput\u001b[39m(\u001b[38;5;124m\"\u001b[39m\u001b[38;5;124mDeposit amount:\u001b[39m\u001b[38;5;124m\"\u001b[39m))\n",
      "File \u001b[0;32m~/anaconda3/lib/python3.11/site-packages/ipykernel/kernelbase.py:1202\u001b[0m, in \u001b[0;36mKernel.raw_input\u001b[0;34m(self, prompt)\u001b[0m\n\u001b[1;32m   1200\u001b[0m     msg \u001b[38;5;241m=\u001b[39m \u001b[38;5;124m\"\u001b[39m\u001b[38;5;124mraw_input was called, but this frontend does not support input requests.\u001b[39m\u001b[38;5;124m\"\u001b[39m\n\u001b[1;32m   1201\u001b[0m     \u001b[38;5;28;01mraise\u001b[39;00m StdinNotImplementedError(msg)\n\u001b[0;32m-> 1202\u001b[0m \u001b[38;5;28;01mreturn\u001b[39;00m \u001b[38;5;28mself\u001b[39m\u001b[38;5;241m.\u001b[39m_input_request(\n\u001b[1;32m   1203\u001b[0m     \u001b[38;5;28mstr\u001b[39m(prompt),\n\u001b[1;32m   1204\u001b[0m     \u001b[38;5;28mself\u001b[39m\u001b[38;5;241m.\u001b[39m_parent_ident[\u001b[38;5;124m\"\u001b[39m\u001b[38;5;124mshell\u001b[39m\u001b[38;5;124m\"\u001b[39m],\n\u001b[1;32m   1205\u001b[0m     \u001b[38;5;28mself\u001b[39m\u001b[38;5;241m.\u001b[39mget_parent(\u001b[38;5;124m\"\u001b[39m\u001b[38;5;124mshell\u001b[39m\u001b[38;5;124m\"\u001b[39m),\n\u001b[1;32m   1206\u001b[0m     password\u001b[38;5;241m=\u001b[39m\u001b[38;5;28;01mFalse\u001b[39;00m,\n\u001b[1;32m   1207\u001b[0m )\n",
      "File \u001b[0;32m~/anaconda3/lib/python3.11/site-packages/ipykernel/kernelbase.py:1245\u001b[0m, in \u001b[0;36mKernel._input_request\u001b[0;34m(self, prompt, ident, parent, password)\u001b[0m\n\u001b[1;32m   1242\u001b[0m \u001b[38;5;28;01mexcept\u001b[39;00m \u001b[38;5;167;01mKeyboardInterrupt\u001b[39;00m:\n\u001b[1;32m   1243\u001b[0m     \u001b[38;5;66;03m# re-raise KeyboardInterrupt, to truncate traceback\u001b[39;00m\n\u001b[1;32m   1244\u001b[0m     msg \u001b[38;5;241m=\u001b[39m \u001b[38;5;124m\"\u001b[39m\u001b[38;5;124mInterrupted by user\u001b[39m\u001b[38;5;124m\"\u001b[39m\n\u001b[0;32m-> 1245\u001b[0m     \u001b[38;5;28;01mraise\u001b[39;00m \u001b[38;5;167;01mKeyboardInterrupt\u001b[39;00m(msg) \u001b[38;5;28;01mfrom\u001b[39;00m \u001b[38;5;28;01mNone\u001b[39;00m\n\u001b[1;32m   1246\u001b[0m \u001b[38;5;28;01mexcept\u001b[39;00m \u001b[38;5;167;01mException\u001b[39;00m:\n\u001b[1;32m   1247\u001b[0m     \u001b[38;5;28mself\u001b[39m\u001b[38;5;241m.\u001b[39mlog\u001b[38;5;241m.\u001b[39mwarning(\u001b[38;5;124m\"\u001b[39m\u001b[38;5;124mInvalid Message:\u001b[39m\u001b[38;5;124m\"\u001b[39m, exc_info\u001b[38;5;241m=\u001b[39m\u001b[38;5;28;01mTrue\u001b[39;00m)\n",
      "\u001b[0;31mKeyboardInterrupt\u001b[0m: Interrupted by user"
     ]
    }
   ],
   "source": [
    "#Bankaccount\n",
    "class bankaccount:\n",
    "    def __init__(self,a_name,a_no,a_type,a_balance):\n",
    "        self.acc_name=a_name\n",
    "        self.acc_no=a_no\n",
    "        self.acc_type=a_type\n",
    "        self.acc_balance=a_balance\n",
    "    def deposit(self,a_deposit):\n",
    "        print(\"Initial balance:\",self.acc_balance)\n",
    "        self.acc_balance+=a_deposit\n",
    "        print(a_deposit,\"is deposit\")\n",
    "        print(\"current balance:\",self.acc_balance)\n",
    "    def withdraw(self):\n",
    "        self.amount=int(input(\"withdraw amount:\"))\n",
    "        print(\"Initial balance:\",self.acc_balance)\n",
    "        if self.amount>self.acc_balance:\n",
    "            print(\"you don't have anough balance to withdraw!!\")\n",
    "            print(\"Current balance:\",self.acc_balance)\n",
    "        else:\n",
    "            print(self.amount,\"is withdrawed\")\n",
    "            self.acc_balance-=self.amount\n",
    "            print(\"Current balance:\",self.acc_balance)\n",
    "    def acc_info(self):\n",
    "        print(\"Account holder name:\",self.acc_name)\n",
    "        print(\"Account Number:\",self.acc_no)\n",
    "        print(\"Account type:\",self.acc_type)\n",
    "        print(\"Account Balance:\",self.acc_balance)\n",
    "name=input(\"Enter name:\")\n",
    "no=int(input(\"Enter account number:\"))\n",
    "typ=input(\"Enter account type:\")\n",
    "bal=int(input(\"Enter initial balance:\"))\n",
    "holder=bankaccount(name,no,typ,bal)\n",
    "while(True):\n",
    "    ch=int(input(\"1.Deposit 2.Withdraw 3.Account info 4.Exit\\n Choose your option:\"))\n",
    "    if ch==1:\n",
    "        amount=int(input(\"Deposit amount:\"))\n",
    "        holder.deposit(amount)\n",
    "    elif ch==2:\n",
    "        holder.withdraw()\n",
    "    elif ch==3:\n",
    "         holder.acc_info()\n",
    "    else:\n",
    "        print(\"Exiting...\")\n",
    "        break"
   ]
  },
  {
   "cell_type": "code",
   "execution_count": 4,
   "id": "401aef4a",
   "metadata": {},
   "outputs": [
    {
     "name": "stdout",
     "output_type": "stream",
     "text": [
      "Enter publisher name:DC BOOKS\n",
      "Enter book name:PYTHON\n",
      "Enter author name:SAM\n",
      "Enter rate of book:1000\n",
      "Enter no.of pages:200\n",
      "Book details\n",
      "Publisher name= DC BOOKS\n",
      "Title= PYTHON\n",
      "Author SAM\n",
      "Rate= 1000\n",
      "No.of pages= 200\n"
     ]
    }
   ],
   "source": [
    "class publisher:\n",
    "    def __init__(self,pname):\n",
    "        self.pubname=pname\n",
    "    def display1(self):\n",
    "        print(\"Book details\\nPublisher name=\",self.pubname)\n",
    "class book(publisher):\n",
    "    def __init__(self,pname,bname,author):\n",
    "        self.title=bname\n",
    "        self.auth=author\n",
    "        publisher.__init__(self,pname)\n",
    "    def display2(self):\n",
    "        print(\"Title=\",self.title)\n",
    "        print(\"Author\",self.auth)\n",
    "class python(book):\n",
    "    def __init__(self,pname,title,au,price,np):\n",
    "        self.rate=price\n",
    "        self.nop=np\n",
    "        book.__init__(self,pname,title,au)\n",
    "    def display3(self):\n",
    "        print(\"Rate=\",self.rate)\n",
    "        print(\"No.of pages=\",self.nop)\n",
    "p=input(\"Enter publisher name:\")\n",
    "b=input(\"Enter book name:\")\n",
    "a=input(\"Enter author name:\")\n",
    "r=int(input(\"Enter rate of book:\"))\n",
    "n=int(input(\"Enter no.of pages:\"))\n",
    "a=python(p,b,a,r,n)\n",
    "a.display1()\n",
    "a.display2()\n",
    "a.display3()\n",
    "\n",
    "\n",
    "\n"
   ]
  },
  {
   "cell_type": "code",
   "execution_count": null,
   "id": "9cec8d87",
   "metadata": {},
   "outputs": [],
   "source": []
  },
  {
   "cell_type": "code",
   "execution_count": 9,
   "id": "d74ffcfe",
   "metadata": {},
   "outputs": [
    {
     "name": "stdout",
     "output_type": "stream",
     "text": [
      "Enter length of rectangle1:5\n",
      "Enter width of rectangle1:9\n",
      "Enter length of rectangle2:9\n",
      "Enter width of rectangle2:2\n",
      "rectangle 1 is greater\n"
     ]
    }
   ],
   "source": [
    "class rectangle:\n",
    "    def __init__(self,l,w):\n",
    "        self.length=1\n",
    "        self.width=w\n",
    "        self.a=l*w\n",
    "    def __gt__(self,other):\n",
    "        if self.a<other.a:\n",
    "            print(\"rectangle 1 is greater\")\n",
    "        else:\n",
    "            print(\"rectangle 2 is greater\")\n",
    "l1=int(input(\"Enter length of rectangle1:\"))\n",
    "w1=int(input(\"Enter width of rectangle1:\"))\n",
    "l2=int(input(\"Enter length of rectangle2:\"))\n",
    "w2=int(input(\"Enter width of rectangle2:\"))\n",
    "r1=rectangle(l1,w1)\n",
    "r2=rectangle(l2,w2)\n",
    "r1<r2"
   ]
  },
  {
   "cell_type": "code",
   "execution_count": 12,
   "id": "2729c7f1",
   "metadata": {},
   "outputs": [
    {
     "ename": "SyntaxError",
     "evalue": "invalid syntax (318668972.py, line 12)",
     "output_type": "error",
     "traceback": [
      "\u001b[0;36m  Cell \u001b[0;32mIn[12], line 12\u001b[0;36m\u001b[0m\n\u001b[0;31m    with open(file1,'r')asf2:\u001b[0m\n\u001b[0m                        ^\u001b[0m\n\u001b[0;31mSyntaxError\u001b[0m\u001b[0;31m:\u001b[0m invalid syntax\n"
     ]
    }
   ],
   "source": [
    "import csv\n",
    "file1=input(\"enter new souce csv file name:\")\n",
    "with open(file1,\"a+\",newline='')as f1:\n",
    "          empdata=[\"empid\",\"empname\",\"dptmnt\",\"dob\",\"salary\"]\n",
    "          i=[]\n",
    "          writer=csv.DictWriter(f1,fieldnames=empdata)\n",
    "          writer.writeheader()\n",
    "          for i in range(2):\n",
    "             i=list(input(\"enter commaseperated empid,empname,deprtment,dob,salary:\").split(\",\"))\n",
    "             writer.writerow({'empid':i[0],'empname':i[1],'dptmnt':i[2],'dob':i[3],'salary':i[4]})\n",
    "             i.clear()\n",
    "with open(file1,'r')asf2:\n",
    "rdr=csv.DictReader(f2)\n",
    "for item in rde:\n",
    "          print(dict(item))"
   ]
  },
  {
   "cell_type": "code",
   "execution_count": null,
   "id": "a81b27d4",
   "metadata": {},
   "outputs": [],
   "source": []
  }
 ],
 "metadata": {
  "kernelspec": {
   "display_name": "Python 3 (ipykernel)",
   "language": "python",
   "name": "python3"
  },
  "language_info": {
   "codemirror_mode": {
    "name": "ipython",
    "version": 3
   },
   "file_extension": ".py",
   "mimetype": "text/x-python",
   "name": "python",
   "nbconvert_exporter": "python",
   "pygments_lexer": "ipython3",
   "version": "3.11.5"
  }
 },
 "nbformat": 4,
 "nbformat_minor": 5
}
