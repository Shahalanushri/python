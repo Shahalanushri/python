{
 "cells": [
  {
   "cell_type": "code",
   "execution_count": 1,
   "id": "708411ff",
   "metadata": {},
   "outputs": [
    {
     "name": "stdout",
     "output_type": "stream",
     "text": [
      "enter the side:5\n",
      "area of square= 25\n"
     ]
    }
   ],
   "source": [
    "a=int(input(\"enter the side:\"))\n",
    "area=a*a\n",
    "print(\"area of square=\",area)"
   ]
  },
  {
   "cell_type": "code",
   "execution_count": null,
   "id": "86e78f78",
   "metadata": {},
   "outputs": [],
   "source": []
  }
 ],
 "metadata": {
  "kernelspec": {
   "display_name": "Python 3 (ipykernel)",
   "language": "python",
   "name": "python3"
  },
  "language_info": {
   "codemirror_mode": {
    "name": "ipython",
    "version": 3
   },
   "file_extension": ".py",
   "mimetype": "text/x-python",
   "name": "python",
   "nbconvert_exporter": "python",
   "pygments_lexer": "ipython3",
   "version": "3.11.4"
  }
 },
 "nbformat": 4,
 "nbformat_minor": 5
}
