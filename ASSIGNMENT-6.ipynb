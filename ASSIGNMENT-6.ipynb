{
 "cells": [
  {
   "cell_type": "code",
   "execution_count": 10,
   "id": "012ffe9e",
   "metadata": {},
   "outputs": [
    {
     "name": "stdout",
     "output_type": "stream",
     "text": [
      "Enter a number 5\n",
      "Factorial is  120\n"
     ]
    }
   ],
   "source": [
    "#factorial of any number\n",
    "import math\n",
    "n=int(input(\"Enter a number \"))\n",
    "f=1\n",
    "i=1\n",
    "while(i<=n):\n",
    "    f=f*i\n",
    "    i=i+1\n",
    "print(\"Factorial is \",f)"
   ]
  },
  {
   "cell_type": "code",
   "execution_count": 17,
   "id": "5b0a2bc6",
   "metadata": {},
   "outputs": [
    {
     "name": "stdout",
     "output_type": "stream",
     "text": [
      "Enter a limit 10\n",
      "Fibonacci series :\n",
      "\n",
      "0\n",
      "1\n",
      "1\n",
      "2\n",
      "3\n",
      "5\n",
      "8\n",
      "13\n",
      "21\n",
      "34\n",
      "55\n"
     ]
    }
   ],
   "source": [
    "#Fibonacci series\n",
    "import math\n",
    "n=int(input(\"Enter a limit \"))\n",
    "Firstnumber=1\n",
    "Secondnumber=0\n",
    "print(\"Fibonacci series :\\n\")\n",
    "print(Secondnumber)\n",
    "i=1\n",
    "while(i<=n):\n",
    "    r=Firstnumber+Secondnumber\n",
    "    print(r)\n",
    "    Firstnumber=Secondnumber\n",
    "    Secondnumber=r\n",
    "    i=i+1"
   ]
  },
  {
   "cell_type": "code",
   "execution_count": 4,
   "id": "6e33336a",
   "metadata": {},
   "outputs": [
    {
     "name": "stdout",
     "output_type": "stream",
     "text": [
      "Enter the first number: 20\n",
      "Enter the second number: 30\n",
      "GCD of 20 and 30 is 10\n"
     ]
    }
   ],
   "source": [
    "#Greatest Common Diviser\n",
    "n1=int(input(\"Enter the first number: \"))\n",
    "n2=int(input(\"Enter the second number: \"))\n",
    "if(n1>n2):\n",
    "    c=n2\n",
    "else:\n",
    "    c=n1\n",
    "while(c>0):\n",
    "    if(n1%c==0)and(n2%c==0):\n",
    "        print(\"GCD of\",n1,\"and\",n2,\"is\",c)\n",
    "        break;\n",
    "    c=c-1"
   ]
  },
  {
   "cell_type": "code",
   "execution_count": 14,
   "id": "842fc271",
   "metadata": {},
   "outputs": [
    {
     "name": "stdout",
     "output_type": "stream",
     "text": [
      "Enter a List:12345\n",
      "Sum of The Elelments In The List  ['1', '2', '3', '4', '5'] = 15\n"
     ]
    }
   ],
   "source": [
    "#Sum of all terms in a list\n",
    "l=list(input(\"Enter a List:\"))\n",
    "l1=len(l)\n",
    "a=0\n",
    "i=0\n",
    "for i in range(l1):\n",
    "    b=int(l[i])\n",
    "    a=a+b;\n",
    "print(\"Sum of The Elelments In The List \",l,\"=\",a)"
   ]
  },
  {
   "cell_type": "code",
   "execution_count": 25,
   "id": "9969f2b6",
   "metadata": {},
   "outputs": [
    {
     "name": "stdout",
     "output_type": "stream",
     "text": [
      "ENTER NUMBER SEPERATED BY COMMAS :1,2,3,4\n",
      "tuples ('1', '2', '3', '4')\n",
      "Average value of the number is in given tuple : 2.5\n"
     ]
    }
   ],
   "source": [
    "#Averag eof Tuple\n",
    "t=tuple(input(\"ENTER NUMBER SEPERATED BY COMMAS :\").split(\",\"))\n",
    "print(\"tuples\",t)\n",
    "l=len(t)\n",
    "c=0\n",
    "for i in range(l):\n",
    "    c=int(t[i])+c\n",
    "    avg=c/l\n",
    "print(\"Average value of the number is in given tuple :\",avg)"
   ]
  },
  {
   "cell_type": "code",
   "execution_count": 34,
   "id": "56f532ee",
   "metadata": {},
   "outputs": [
    {
     "name": "stdout",
     "output_type": "stream",
     "text": [
      "Enter a string:haala\n",
      "h is repeated 1 times\n",
      "a is repeated 3 times\n",
      "l is repeated 1 times\n"
     ]
    }
   ],
   "source": [
    "#Freaquency of characters in a string\n",
    "s=input(\"Enter a string:\")\n",
    "f={}\n",
    "for i in s:\n",
    "    if i in f: \n",
    "        f[i]=f[i]+1\n",
    "    else:   \n",
    "        f[i]=1\n",
    "for keys,value in f.items():\n",
    "    print(keys,\"is repeated\",value,\"times\")"
   ]
  },
  {
   "cell_type": "code",
   "execution_count": null,
   "id": "e53d85c3",
   "metadata": {},
   "outputs": [],
   "source": []
  }
 ],
 "metadata": {
  "kernelspec": {
   "display_name": "Python 3 (ipykernel)",
   "language": "python",
   "name": "python3"
  },
  "language_info": {
   "codemirror_mode": {
    "name": "ipython",
    "version": 3
   },
   "file_extension": ".py",
   "mimetype": "text/x-python",
   "name": "python",
   "nbconvert_exporter": "python",
   "pygments_lexer": "ipython3",
   "version": "3.11.4"
  }
 },
 "nbformat": 4,
 "nbformat_minor": 5
}
