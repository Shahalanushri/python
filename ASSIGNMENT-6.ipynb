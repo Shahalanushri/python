{
 "cells": [
  {
   "cell_type": "code",
   "execution_count": 10,
   "id": "012ffe9e",
   "metadata": {},
   "outputs": [
    {
     "name": "stdout",
     "output_type": "stream",
     "text": [
      "Enter a number 5\n",
      "Factorial is  120\n"
     ]
    }
   ],
   "source": [
    "#factorial of any number\n",
    "import math\n",
    "n=int(input(\"Enter a number \"))\n",
    "f=1\n",
    "i=1\n",
    "while(i<=n):\n",
    "    f=f*i\n",
    "    i=i+1\n",
    "print(\"Factorial is \",f)"
   ]
  },
  {
   "cell_type": "code",
   "execution_count": 17,
   "id": "5b0a2bc6",
   "metadata": {},
   "outputs": [
    {
     "name": "stdout",
     "output_type": "stream",
     "text": [
      "Enter a limit 10\n",
      "Fibonacci series :\n",
      "\n",
      "0\n",
      "1\n",
      "1\n",
      "2\n",
      "3\n",
      "5\n",
      "8\n",
      "13\n",
      "21\n",
      "34\n",
      "55\n"
     ]
    }
   ],
   "source": [
    "#Fibonacci series\n",
    "import math\n",
    "n=int(input(\"Enter a limit \"))\n",
    "Firstnumber=1\n",
    "Secondnumber=0\n",
    "print(\"Fibonacci series :\\n\")\n",
    "print(Secondnumber)\n",
    "i=1\n",
    "while(i<=n):\n",
    "    r=Firstnumber+Secondnumber\n",
    "    print(r)\n",
    "    Firstnumber=Secondnumber\n",
    "    Secondnumber=r\n",
    "    i=i+1"
   ]
  },
  {
   "cell_type": "code",
   "execution_count": null,
   "id": "6e33336a",
   "metadata": {},
   "outputs": [],
   "source": []
  }
 ],
 "metadata": {
  "kernelspec": {
   "display_name": "Python 3 (ipykernel)",
   "language": "python",
   "name": "python3"
  },
  "language_info": {
   "codemirror_mode": {
    "name": "ipython",
    "version": 3
   },
   "file_extension": ".py",
   "mimetype": "text/x-python",
   "name": "python",
   "nbconvert_exporter": "python",
   "pygments_lexer": "ipython3",
   "version": "3.11.4"
  }
 },
 "nbformat": 4,
 "nbformat_minor": 5
}
