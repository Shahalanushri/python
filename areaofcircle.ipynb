{
 "cells": [
  {
   "cell_type": "code",
   "execution_count": 1,
   "id": "399d9922",
   "metadata": {},
   "outputs": [
    {
     "name": "stdout",
     "output_type": "stream",
     "text": [
      "Area of circle\n",
      "Enter the radius of the circle2\n",
      "The area of circle is =  12.566370614359172\n"
     ]
    }
   ],
   "source": [
    "print(\"Area of circle\")\n",
    "from math import pi\n",
    "a=float(input(\"Enter the radius of the circle\"))\n",
    "area=(pi*a*a)\n",
    "print(\"The area of circle is = \",area)"
   ]
  },
  {
   "cell_type": "code",
   "execution_count": null,
   "id": "3291b420",
   "metadata": {},
   "outputs": [],
   "source": []
  }
 ],
 "metadata": {
  "kernelspec": {
   "display_name": "Python 3 (ipykernel)",
   "language": "python",
   "name": "python3"
  },
  "language_info": {
   "codemirror_mode": {
    "name": "ipython",
    "version": 3
   },
   "file_extension": ".py",
   "mimetype": "text/x-python",
   "name": "python",
   "nbconvert_exporter": "python",
   "pygments_lexer": "ipython3",
   "version": "3.11.4"
  }
 },
 "nbformat": 4,
 "nbformat_minor": 5
}

