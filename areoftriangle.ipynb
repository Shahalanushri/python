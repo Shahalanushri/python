{
 "cells": [
  {
   "cell_type": "code",
   "execution_count": 1,
   "id": "708411ff",
   "metadata": {},
   "outputs": [
    {
     "name": "stdout",
     "output_type": "stream",
     "text": [
      "enter the height:4\n",
      "enter the breadth:3\n",
      "area of a rightangle triangle= 6.0\n"
     ]
    }
   ],
   "source": [
    "a=int(input(\"enter the height:\"))\n",
    "b=int(input(\"enter the breadth:\"))\n",
    "area=a*b/2\n",
    "print(\"area of a rightangle triangle=\",area)"
   ]
  },
  {
   "cell_type": "code",
   "execution_count": null,
   "id": "86e78f78",
   "metadata": {},
   "outputs": [],
   "source": []
  }
 ],
 "metadata": {
  "kernelspec": {
   "display_name": "Python 3 (ipykernel)",
   "language": "python",
   "name": "python3"
  },
  "language_info": {
   "codemirror_mode": {
    "name": "ipython",
    "version": 3
   },
   "file_extension": ".py",
   "mimetype": "text/x-python",
   "name": "python",
   "nbconvert_exporter": "python",
   "pygments_lexer": "ipython3",
   "version": "3.11.4"
  }
 },
 "nbformat": 4,
 "nbformat_minor": 5
}
