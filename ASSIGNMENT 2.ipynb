{
 "cells": [
  {
   "cell_type": "code",
   "execution_count": 9,
   "id": "daa755e1",
   "metadata": {},
   "outputs": [
    {
     "name": "stdout",
     "output_type": "stream",
     "text": [
      "Area of circle \n",
      "Enter the radius of the circle:5\n",
      "The area of circle is =  79\n"
     ]
    }
   ],
   "source": [
    "#Area of a cirlce\n",
    "print(\"Area of circle \")\n",
    "from math import pi\n",
    "a=float(input(\"Enter the radius of the circle:\"))\n",
    "area=round(pi*a*a)\n",
    "print(\"The area of circle is = \",area)"
   ]
  },
  {
   "cell_type": "code",
   "execution_count": 4,
   "id": "0aff3860",
   "metadata": {},
   "outputs": [
    {
     "name": "stdout",
     "output_type": "stream",
     "text": [
      "Celsius to fahrenheit\n",
      "Enter the degree celsius 39\n",
      "THe fareiheit is =  102.2\n"
     ]
    }
   ],
   "source": [
    "#Celsius to fahrenheight\n",
    "print(\"Celsius to fahrenheit\")\n",
    "a=int(input(\"Enter the degree celsius \"))\n",
    "f=(a*9/5)+32\n",
    "print(\"THe fareiheit is = \",f)\n"
   ]
  },
  {
   "cell_type": "code",
   "execution_count": 5,
   "id": "d71ceab4",
   "metadata": {},
   "outputs": [
    {
     "name": "stdout",
     "output_type": "stream",
     "text": [
      "Kilometers to Miles\n",
      "Enter the Kilometers 40\n",
      "Miles = 24.85484\n"
     ]
    }
   ],
   "source": [
    "#Kilometer to Miles\n",
    "print(\"Kilometers to Miles\")\n",
    "a=float(input(\"Enter the Kilometers \"))\n",
    "b=(a*0.621371)\n",
    "print(\"Miles =\",b)"
   ]
  },
  {
   "cell_type": "code",
   "execution_count": 8,
   "id": "c67f70f6",
   "metadata": {},
   "outputs": [
    {
     "name": "stdout",
     "output_type": "stream",
     "text": [
      "Biggest of two numbers\n",
      "Enter the first number: 5\n",
      "Enter the second number: 6\n",
      "The greatest number is  6\n"
     ]
    }
   ],
   "source": [
    "#Biggest of two numbers\n",
    "print(\"Biggest of two numbers\")\n",
    "a=int(input(\"Enter the first number: \"))\n",
    "b=int(input(\"Enter the second number: \"))\n",
    "if a<b:\n",
    "    print(\"The greatest number is \",b)\n",
    "else:\n",
    "    print(\"The greatest number is \",a)\n",
    "    "
   ]
  },
  {
   "cell_type": "code",
   "execution_count": null,
   "id": "fe6805cc",
   "metadata": {},
   "outputs": [],
   "source": []
  },
  {
   "cell_type": "code",
   "execution_count": null,
   "id": "ed033ebc",
   "metadata": {},
   "outputs": [],
   "source": []
  }
 ],
 "metadata": {
  "kernelspec": {
   "display_name": "Python 3 (ipykernel)",
   "language": "python",
   "name": "python3"
  },
  "language_info": {
   "codemirror_mode": {
    "name": "ipython",
    "version": 3
   },
   "file_extension": ".py",
   "mimetype": "text/x-python",
   "name": "python",
   "nbconvert_exporter": "python",
   "pygments_lexer": "ipython3",
   "version": "3.11.4"
  }
 },
 "nbformat": 4,
 "nbformat_minor": 5
}
