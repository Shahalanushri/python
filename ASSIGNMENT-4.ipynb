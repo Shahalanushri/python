{
 "cells": [
  {
   "cell_type": "code",
   "execution_count": 3,
   "id": "527d36ed",
   "metadata": {},
   "outputs": [
    {
     "name": "stdout",
     "output_type": "stream",
     "text": [
      "Enter numbers:10,20,30,40\n",
      "List= ['10', '20', '30', '40']\n"
     ]
    }
   ],
   "source": [
    "#Create a list\n",
    "n=input(\"Enter numbers:\")\n",
    "p=n.split(\",\")\n",
    "print(\"List=\",p)"
   ]
  },
  {
   "cell_type": "code",
   "execution_count": 9,
   "id": "3dd85368",
   "metadata": {},
   "outputs": [
    {
     "name": "stdout",
     "output_type": "stream",
     "text": [
      "Enter colors:red,pink,blue,black\n",
      "First color= red\n",
      "Last color= black\n"
     ]
    }
   ],
   "source": [
    "#List of colors\n",
    "n=input(\"Enter colors:\")\n",
    "p=n.split(\",\")\n",
    "print(\"First color=\",p[0])\n",
    "print(\"Last color=\",p[-1])"
   ]
  },
  {
   "cell_type": "code",
   "execution_count": 15,
   "id": "089a6efe",
   "metadata": {},
   "outputs": [
    {
     "name": "stdout",
     "output_type": "stream",
     "text": [
      "Enter a file name:sum.py\n",
      "List= py\n"
     ]
    }
   ],
   "source": [
    "#Accept file extension\n",
    "a=input(\"Enter a file name:\")\n",
    "p=a.split(\".\")\n",
    "print(\"List=\",p[-1])"
   ]
  },
  {
   "cell_type": "code",
   "execution_count": null,
   "id": "eb6df9fe",
   "metadata": {},
   "outputs": [],
   "source": []
  }
 ],
 "metadata": {
  "kernelspec": {
   "display_name": "Python 3 (ipykernel)",
   "language": "python",
   "name": "python3"
  },
  "language_info": {
   "codemirror_mode": {
    "name": "ipython",
    "version": 3
   },
   "file_extension": ".py",
   "mimetype": "text/x-python",
   "name": "python",
   "nbconvert_exporter": "python",
   "pygments_lexer": "ipython3",
   "version": "3.11.4"
  }
 },
 "nbformat": 4,
 "nbformat_minor": 5
}
