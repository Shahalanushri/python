{
 "cells": [
  {
   "cell_type": "code",
   "execution_count": 1,
   "id": "dea3245e",
   "metadata": {},
   "outputs": [
    {
     "name": "stdout",
     "output_type": "stream",
     "text": [
      "enter a number 3\n",
      "The given number is positive\n"
     ]
    }
   ],
   "source": [
    "#positive,negative or zero\n",
    "n=int(input(\"enter a number \"))\n",
    "if (n>0):\n",
    "    print(\"The given number is positive\")\n",
    "elif(n==0):\n",
    "    print(\"The given number is zero\")\n",
    "else:\n",
    "    print(\"The given number is negative\")"
   ]
  },
  {
   "cell_type": "code",
   "execution_count": 3,
   "id": "4bcf6a2f",
   "metadata": {},
   "outputs": [
    {
     "name": "stdout",
     "output_type": "stream",
     "text": [
      "Enter first number 30\n",
      "Enter second number 1\n",
      "Enter third number 44\n",
      "Greatest number is  44\n"
     ]
    }
   ],
   "source": [
    "#Greatest of 3 numbers\n",
    "a=int(input(\"Enter first number \"))\n",
    "b=int(input(\"Enter second number \"))\n",
    "c=int(input(\"Enter third number \"))\n",
    "if (a>b and b>c):\n",
    "    print(\"Greatest number is \",a)\n",
    "if (b>a and b>c):\n",
    "    print(\"Greatest number is \",b)\n",
    "else:\n",
    "    print(\"Greatest number is \",c)"
   ]
  },
  {
   "cell_type": "code",
   "execution_count": 6,
   "id": "5e4a0ef1",
   "metadata": {},
   "outputs": [
    {
     "name": "stdout",
     "output_type": "stream",
     "text": [
      "Enter first number 5\n",
      "Enter second number 2\n",
      "Enter your choice\n",
      "1.Addition\n",
      "2.substraction\n",
      "1.multiplication\n",
      "1.Division\n",
      "Enter your choice 1\n",
      "result is 7\n"
     ]
    }
   ],
   "source": [
    "#simple calculator\n",
    "num1=float(input(\"Enter first number \"))\n",
    "num2=float(input(\"Enter second number \"))\n",
    "print(\"Enter your choice\")\n",
    "print(\"1.Addition\")\n",
    "print(\"2.substraction\")\n",
    "print(\"1.multiplication\")\n",
    "print(\"1.Division\")\n",
    "choice=float(input(\"Enter your choice \"))\n",
    "if(choice==1):\n",
    "    print(\"result is\",round(num1+num2))\n",
    "elif(choice==2):\n",
    "    print(\"result is\",round(num1-num2))\n",
    "elif(choice==3):\n",
    "    print(\"result is\",round(num1*num2))\n",
    "elif(choice==3):\n",
    "    print(\"result is\",round(num1/num2))\n",
    "else:\n",
    "    print(\"invalid\")\n",
    "      \n",
    "\n",
    "        \n"
   ]
  },
  {
   "cell_type": "code",
   "execution_count": null,
   "id": "8cf6e2d5",
   "metadata": {},
   "outputs": [],
   "source": []
  }
 ],
 "metadata": {
  "kernelspec": {
   "display_name": "Python 3 (ipykernel)",
   "language": "python",
   "name": "python3"
  },
  "language_info": {
   "codemirror_mode": {
    "name": "ipython",
    "version": 3
   },
   "file_extension": ".py",
   "mimetype": "text/x-python",
   "name": "python",
   "nbconvert_exporter": "python",
   "pygments_lexer": "ipython3",
   "version": "3.11.4"
  }
 },
 "nbformat": 4,
 "nbformat_minor": 5
}
