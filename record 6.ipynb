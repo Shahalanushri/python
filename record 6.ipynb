{
 "cells": [
  {
   "cell_type": "code",
   "execution_count": 11,
   "id": "67d09c42",
   "metadata": {},
   "outputs": [
    {
     "name": "stdout",
     "output_type": "stream",
     "text": [
      "Enter first year:2000\n",
      "Enter second year:2030\n",
      "Leap years between 2000 and 2030 :\n",
      "2000\n",
      "2004\n",
      "2008\n",
      "2012\n",
      "2016\n",
      "2020\n",
      "2024\n",
      "2028\n"
     ]
    }
   ],
   "source": [
    "#Display leap year\n",
    "def leap(i,u):\n",
    "    print(\"Leap years between\",i,\"and\",u,\":\")\n",
    "    for i in range(i,u+1):\n",
    "        if(i%4==0)and (i%100!=0)or(i%400==0):\n",
    "            print(i)\n",
    "a=int(input(\"Enter first year:\"))\n",
    "b=int(input(\"Enter second year:\"))\n",
    "leap(a,b)\n"
   ]
  },
  {
   "cell_type": "code",
   "execution_count": null,
   "id": "5fa17924",
   "metadata": {},
   "outputs": [
    {
     "name": "stdout",
     "output_type": "stream",
     "text": [
      "1.Square\n",
      "2.Rectangle\n",
      "3.Triangle\n",
      "4.Exit\n",
      "Enter your choice:1\n",
      "Enter side:2\n",
      "Area of square: 4\n",
      "1.Square\n",
      "2.Rectangle\n",
      "3.Triangle\n",
      "4.Exit\n",
      "Enter your choice:1\n",
      "Enter side:3\n",
      "Area of square: 9\n",
      "1.Square\n",
      "2.Rectangle\n",
      "3.Triangle\n",
      "4.Exit\n",
      "Enter your choice:2\n",
      "Enter length:3\n",
      "Enter breadth:4\n",
      "Area of Rectangle: 12\n",
      "1.Square\n",
      "2.Rectangle\n",
      "3.Triangle\n",
      "4.Exit\n"
     ]
    }
   ],
   "source": [
    "#Area of square,rectangle,triangle\n",
    "sqr=lambda a:a*a\n",
    "rect=lambda l,b:l*b\n",
    "tri=lambda b,h:(b*h)/2\n",
    "while(1):\n",
    "    print(\"1.Square\\n2.Rectangle\\n3.Triangle\\n4.Exit\")\n",
    "    ch=int(input(\"Enter your choice:\"))\n",
    "    if(ch==1):\n",
    "        a=int(input(\"Enter side:\"))\n",
    "        print(\"Area of square:\",sqr(a))\n",
    "    elif(ch==2):\n",
    "        l=int(input(\"Enter length:\"))\n",
    "        b=int(input(\"Enter breadth:\"))\n",
    "        print(\"Area of Rectangle:\",rect(l,b))\n",
    "    elif(ch==3):\n",
    "        b=int(input(\"Enter breadth:\"))\n",
    "        l=int(input(\"Enter height:\"))\n",
    "        print(\"Area of Triangle:\",tri(b,h))\n",
    "    else:\n",
    "        print(\"Exiting...\")\n",
    "        break\n",
    "        "
   ]
  },
  {
   "cell_type": "code",
   "execution_count": 31,
   "id": "361827f1",
   "metadata": {},
   "outputs": [
    {
     "name": "stdout",
     "output_type": "stream",
     "text": [
      "Enter 4 digit lower range: 1234\n",
      "Enter 4 digiot upper range:9000\n",
      "list: [4624, 6084, 6400, 8464]\n"
     ]
    }
   ],
   "source": [
    "#Perfect square\n",
    "import math\n",
    "n1=int(input(\"Enter 4 digit lower range: \"))\n",
    "n2=int(input(\"Enter 4 digiot upper range:\"))\n",
    "I=[]\n",
    "x=0\n",
    "for i in range(n1,n2):\n",
    "    x=i\n",
    "    while(x!=0):\n",
    "        k1=x%10\n",
    "        x=int(x/10)\n",
    "        k2=x%10\n",
    "        x=int(x/10)\n",
    "        k3=x%10\n",
    "        x=int(x/10)\n",
    "        k4=x%10\n",
    "        x=int(x/10)\n",
    "        sq=int(math.sqrt(i))\n",
    "        if(sq*sq==i):\n",
    "            if(k1%2==0 and k2%2==0 and k3%2==0 and k4%2==0):\n",
    "                I.append(i)\n",
    "print(\"list:\",I)"
   ]
  },
  {
   "cell_type": "code",
   "execution_count": 34,
   "id": "d1255d17",
   "metadata": {},
   "outputs": [
    {
     "name": "stdout",
     "output_type": "stream",
     "text": [
      "Enter a word:engineering\n",
      "New word: engineeringIy\n"
     ]
    }
   ],
   "source": [
    "#ENDS ING\n",
    "word=input(\"Enter a word:\")\n",
    "str1=word[-3:]\n",
    "if str1=='ing':\n",
    "    word=word+'Iy'\n",
    "else:\n",
    "    word=word+'ing'\n",
    "print(\"New word:\",word)"
   ]
  },
  {
   "cell_type": "code",
   "execution_count": 37,
   "id": "45488894",
   "metadata": {},
   "outputs": [
    {
     "name": "stdout",
     "output_type": "stream",
     "text": [
      "Enter a list of words with comma seperated:Igha,nushri,shahala\n",
      "Length of longest word: shahala\n"
     ]
    }
   ],
   "source": [
    "#word length\n",
    "I1=[]\n",
    "I=list(map(str,input(\"Enter a list of words with comma seperated:\").split(\",\")))\n",
    "for i in I:\n",
    "    I1.append(len(i))\n",
    "print(\"Length of longest word:\",max(I))"
   ]
  },
  {
   "cell_type": "code",
   "execution_count": null,
   "id": "8e23c31c",
   "metadata": {},
   "outputs": [],
   "source": []
  }
 ],
 "metadata": {
  "kernelspec": {
   "display_name": "Python 3 (ipykernel)",
   "language": "python",
   "name": "python3"
  },
  "language_info": {
   "codemirror_mode": {
    "name": "ipython",
    "version": 3
   },
   "file_extension": ".py",
   "mimetype": "text/x-python",
   "name": "python",
   "nbconvert_exporter": "python",
   "pygments_lexer": "ipython3",
   "version": "3.11.5"
  }
 },
 "nbformat": 4,
 "nbformat_minor": 5
}
