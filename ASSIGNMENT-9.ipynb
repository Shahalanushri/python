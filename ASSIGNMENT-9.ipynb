{
 "cells": [
  {
   "cell_type": "code",
   "execution_count": 7,
   "id": "d5d3412b",
   "metadata": {},
   "outputs": [
    {
     "name": "stdout",
     "output_type": "stream",
     "text": [
      "Enter name: haala\n",
      "Enter keyvalue: 20\n",
      "Enter name: bubu\n",
      "Enter keyvalue: 25\n",
      "Enter name: ighaash\n",
      "Enter keyvalue: 1\n",
      "dictionary=  {'haala': '20', 'bubu': '25', 'ighaash': '1'}\n",
      "Ascending order=  {'bubu': '25', 'haala': '20', 'ighaash': '1'}\n",
      "Descending order= {'ighaash': '1', 'haala': '20', 'bubu': '25'}\n"
     ]
    }
   ],
   "source": [
    "#Sorting in ascending and descending\n",
    "dic={}\n",
    "for i in range(3):\n",
    "    name=input(\"Enter name: \")\n",
    "    key=input(\"Enter keyvalue: \")\n",
    "    dic[name]=key\n",
    "print(\"dictionary= \",dic)\n",
    "ascend=sorted(dic.items())\n",
    "new_dict=dict(ascend)\n",
    "print(\"Ascending order= \",new_dict)   \n",
    "descend=dict(sorted(dic.items(),reverse=True))\n",
    "print(\"Descending order=\",descend)"
   ]
  },
  {
   "cell_type": "code",
   "execution_count": 3,
   "id": "edaf29bd",
   "metadata": {},
   "outputs": [
    {
     "name": "stdout",
     "output_type": "stream",
     "text": [
      "Enter the name:haalaaa\n",
      "Enter the age:20\n",
      "First dictionary is: {'name': 'haalaaa', 'age': '20'}\n",
      "Enter the color:white\n",
      "Enter the flower name:jasmin\n",
      "second dictionary is: {'color': 'white', 'flower': 'jasmin'}\n",
      "\n",
      " Merge dictionary is {'name': 'haalaaa', 'age': '20', 'color': 'white', 'flower': 'jasmin'}\n"
     ]
    }
   ],
   "source": [
    "#Merge dictionaries\n",
    "d1={}\n",
    "name=input(\"Enter the name:\")\n",
    "age=input(\"Enter the age:\")\n",
    "d1['name']=name\n",
    "d1['age']=age\n",
    "print(\"First dictionary is:\",d1)\n",
    "d2={}\n",
    "color=input(\"Enter the color:\")\n",
    "flower=input(\"Enter the flower name:\")\n",
    "d2['color']=color\n",
    "d2['flower']=flower\n",
    "print(\"second dictionary is:\",d2)\n",
    "d3=d1\n",
    "d1.update(d2)\n",
    "print(\"\\n Merge dictionary is\",d3)"
   ]
  },
  {
   "cell_type": "code",
   "execution_count": null,
   "id": "983f69df",
   "metadata": {},
   "outputs": [],
   "source": []
  }
 ],
 "metadata": {
  "kernelspec": {
   "display_name": "Python 3 (ipykernel)",
   "language": "python",
   "name": "python3"
  },
  "language_info": {
   "codemirror_mode": {
    "name": "ipython",
    "version": 3
   },
   "file_extension": ".py",
   "mimetype": "text/x-python",
   "name": "python",
   "nbconvert_exporter": "python",
   "pygments_lexer": "ipython3",
   "version": "3.10.12"
  }
 },
 "nbformat": 4,
 "nbformat_minor": 5
}
