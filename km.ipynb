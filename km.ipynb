{
 "cells": [
  {
   "cell_type": "code",
   "execution_count": 7,
   "id": "399d9922",
   "metadata": {},
   "outputs": [
    {
     "name": "stdout",
     "output_type": "stream",
     "text": [
      "Kilometers to Miles\n",
      "Enter the Kilometers 20\n",
      "Miles = 12.42742\n"
     ]
    }
   ],
   "source": [
    "print(\"Kilometers to Miles\")\n",
    "a=float(input(\"Enter the Kilometers \"))\n",
    "b=(a*0.621371)\n",
    "print(\"Miles =\",b)"
   ]
  },
  {
   "cell_type": "code",
   "execution_count": null,
   "id": "3291b420",
   "metadata": {},
   "outputs": [],
   "source": []
  }
 ],
 "metadata": {
  "kernelspec": {
   "display_name": "Python 3 (ipykernel)",
   "language": "python",
   "name": "python3"
  },
  "language_info": {
   "codemirror_mode": {
    "name": "ipython",
    "version": 3
   },
   "file_extension": ".py",
   "mimetype": "text/x-python",
   "name": "python",
   "nbconvert_exporter": "python",
   "pygments_lexer": "ipython3",
   "version": "3.11.4"
  }
 },
 "nbformat": 4,
 "nbformat_minor": 5
}
