{
 "cells": [
  {
   "cell_type": "code",
   "execution_count": 4,
   "id": "5ccfd3b6",
   "metadata": {},
   "outputs": [
    {
     "name": "stdout",
     "output_type": "stream",
     "text": [
      "Enter your string :Apple\n",
      "The resultant string is: epplA\n"
     ]
    }
   ],
   "source": [
    "#Exchange first and last characters\n",
    "s=str(input(\"Enter your string :\"))\n",
    "a=s[0]\n",
    "b=s[-1]\n",
    "print(\"The resultant string is:\",b+s[1:-1]+a)"
   ]
  },
  {
   "cell_type": "code",
   "execution_count": 5,
   "id": "f25e0127",
   "metadata": {},
   "outputs": [
    {
     "name": "stdout",
     "output_type": "stream",
     "text": [
      "Enter your string :apple\n",
      "The resultant string is : aple\n"
     ]
    }
   ],
   "source": [
    "#first and last character interchange \n",
    "s=str(input(\"Enter your string :\"))\n",
    "a=s[0:2]\n",
    "b=s[-2:]\n",
    "print(\"The resultant string is :\",a+s[-2:])"
   ]
  },
  {
   "cell_type": "code",
   "execution_count": 8,
   "id": "74168185",
   "metadata": {},
   "outputs": [
    {
     "name": "stdout",
     "output_type": "stream",
     "text": [
      "Enter the first string: hello\n",
      "Enter the second string: world\n",
      "The resulting string is: wollo  herld\n"
     ]
    }
   ],
   "source": [
    "#Swap first two characters of two string\n",
    "s1=str(input(\"Enter the first string: \"))\n",
    "s2=str(input(\"Enter the second string: \"))\n",
    "a=s1[0:2]\n",
    "b=s2[0:2]\n",
    "print(\"The resulting string is:\",b+s1[2:],\"\",a+s2[2:])"
   ]
  },
  {
   "cell_type": "code",
   "execution_count": 10,
   "id": "3ea4550b",
   "metadata": {},
   "outputs": [
    {
     "name": "stdout",
     "output_type": "stream",
     "text": [
      "Enter the string: onion\n",
      "New String Is apple\n"
     ]
    }
   ],
   "source": [
    "#Replace occurance of firt character to $\n",
    "s=str(input(\"Enter The String: \"))\n",
    "a=s[0]\n",
    "b=s[1:]\n",
    "st=b.replace(\"o\",\"$\")\n",
    "sn=s[0]+st\n",
    "print(\"New String Is\",sn)"
   ]
  },
  {
   "cell_type": "code",
   "execution_count": null,
   "id": "7ebba057",
   "metadata": {},
   "outputs": [],
   "source": []
  }
 ],
 "metadata": {
  "kernelspec": {
   "display_name": "Python 3 (ipykernel)",
   "language": "python",
   "name": "python3"
  },
  "language_info": {
   "codemirror_mode": {
    "name": "ipython",
    "version": 3
   },
   "file_extension": ".py",
   "mimetype": "text/x-python",
   "name": "python",
   "nbconvert_exporter": "python",
   "pygments_lexer": "ipython3",
   "version": "3.11.4"
  }
 },
 "nbformat": 4,
 "nbformat_minor": 5
}
