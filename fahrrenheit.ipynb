{
 "cells": [
  {
   "cell_type": "code",
   "execution_count": 2,
   "id": "3a33e646",
   "metadata": {},
   "outputs": [
    {
     "name": "stdout",
     "output_type": "stream",
     "text": [
      "Celsius to fahrenheit\n",
      "Enter the degree celsius 5\n",
      "THe fareiheit is =  41.0\n"
     ]
    }
   ],
   "source": [
    "print(\"Celsius to fahrenheit\")\n",
    "a=int(input(\"Enter the degree celsius \"))\n",
    "f=(a*9/5)+32\n",
    "print(\"THe fareiheit is = \",f)\n"
   ]
  },
  {
   "cell_type": "code",
   "execution_count": null,
   "id": "f24f8cec",
   "metadata": {},
   "outputs": [],
   "source": []
  }
 ],
 "metadata": {
  "kernelspec": {
   "display_name": "Python 3 (ipykernel)",
   "language": "python",
   "name": "python3"
  },
  "language_info": {
   "codemirror_mode": {
    "name": "ipython",
    "version": 3
   },
   "file_extension": ".py",
   "mimetype": "text/x-python",
   "name": "python",
   "nbconvert_exporter": "python",
   "pygments_lexer": "ipython3",
   "version": "3.11.4"
  }
 },
 "nbformat": 4,
 "nbformat_minor": 5
}
