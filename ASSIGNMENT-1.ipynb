{
 "cells": [
  {
   "cell_type": "code",
   "execution_count": 6,
   "id": "d8575e85",
   "metadata": {},
   "outputs": [
    {
     "name": "stdout",
     "output_type": "stream",
     "text": [
      "enter the side:5\n",
      "area of square= 25\n"
     ]
    }
   ],
   "source": [
    "#Area of square\n",
    "a=int(input(\"enter the side:\"))\n",
    "area=a*a\n",
    "print(\"area of square=\",area)"
   ]
  },
  {
   "cell_type": "code",
   "execution_count": 7,
   "id": "20f8ce89",
   "metadata": {},
   "outputs": [
    {
     "name": "stdout",
     "output_type": "stream",
     "text": [
      "enter the height:5\n",
      "enter the breadth:4\n",
      "area of a rightangle triangle= 10.0\n"
     ]
    }
   ],
   "source": [
    "#Area of right angled triangle\n",
    "a=int(input(\"enter the height:\"))\n",
    "b=int(input(\"enter the breadth:\"))\n",
    "area=a*b/2\n",
    "print(\"area of a rightangle triangle=\",area)"
   ]
  },
  {
   "cell_type": "code",
   "execution_count": 8,
   "id": "69c38deb",
   "metadata": {},
   "outputs": [
    {
     "name": "stdout",
     "output_type": "stream",
     "text": [
      "enter the value of num:4\n",
      "previous= 3\n",
      "next= 5\n"
     ]
    }
   ],
   "source": [
    "#next and previous numbers\n",
    "num=int(input(\"enter the value of num:\"))\n",
    "print(\"previous=\",num-1)\n",
    "print(\"next=\",num+1)\n"
   ]
  },
  {
   "cell_type": "code",
   "execution_count": 9,
   "id": "111198d6",
   "metadata": {},
   "outputs": [
    {
     "name": "stdout",
     "output_type": "stream",
     "text": [
      "enter principle amount:5000\n",
      "enter rate of interst:5\n",
      "no of years:4\n",
      "simple interest= 1000.0\n"
     ]
    }
   ],
   "source": [
    "#Simple interest\n",
    "p=int(input(\"enter principle amount:\"))\n",
    "r=int(input(\"enter rate of interst:\"))\n",
    "n=int(input(\"no of years:\"))\n",
    "i=p*r*n/100\n",
    "print(\"simple interest=\",i)"
   ]
  },
  {
   "cell_type": "code",
   "execution_count": 10,
   "id": "647d1b09",
   "metadata": {},
   "outputs": [
    {
     "name": "stdout",
     "output_type": "stream",
     "text": [
      "enter the value of n:5\n",
      "5 + 55 + 555 = 615\n"
     ]
    }
   ],
   "source": [
    "#accept an integer(n) and compute n+nn+nnn\n",
    "n=int(input(\"enter the value of n:\"))\n",
    "i=n*10+n\n",
    "j=n*100+i\n",
    "a=n+i+j\n",
    "print(n,\"+\",i,\"+\",j,\"=\",a)"
   ]
  },
  {
   "cell_type": "code",
   "execution_count": null,
   "id": "54f4a529",
   "metadata": {},
   "outputs": [],
   "source": []
  }
 ],
 "metadata": {
  "kernelspec": {
   "display_name": "Python 3 (ipykernel)",
   "language": "python",
   "name": "python3"
  },
  "language_info": {
   "codemirror_mode": {
    "name": "ipython",
    "version": 3
   },
   "file_extension": ".py",
   "mimetype": "text/x-python",
   "name": "python",
   "nbconvert_exporter": "python",
   "pygments_lexer": "ipython3",
   "version": "3.11.4"
  }
 },
 "nbformat": 4,
 "nbformat_minor": 5
}
