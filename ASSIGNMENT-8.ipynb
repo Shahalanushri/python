{
 "cells": [
  {
   "cell_type": "code",
   "execution_count": 6,
   "id": "4fcdeea3",
   "metadata": {},
   "outputs": [
    {
     "name": "stdout",
     "output_type": "stream",
     "text": [
      "Enter the Elements:1,5,7,apple\n",
      "Tuple=  ('1', '5', '7', 'apple')\n",
      "Reversed= ('apple', '7', '5', '1')\n"
     ]
    }
   ],
   "source": [
    "#Reverse of a Tuple\n",
    "t=tuple(input(\"Enter the Elements:\").split(\",\"))\n",
    "print(\"Tuple= \",t)\n",
    "reverse=(reversed(t))\n",
    "result=tuple(reverse)\n",
    "print(\"Reversed=\",result)"
   ]
  },
  {
   "cell_type": "code",
   "execution_count": 7,
   "id": "8b87028f",
   "metadata": {},
   "outputs": [
    {
     "name": "stdout",
     "output_type": "stream",
     "text": [
      "ENTER NUMBER SEPERATED BY COMMAS :1,2,3,4,5\n",
      "tuples ('1', '2', '3', '4', '5')\n",
      "Average value of the number is in given tuple : 3.0\n"
     ]
    }
   ],
   "source": [
    "#Average of Tuple\n",
    "t=tuple(input(\"ENTER NUMBER SEPERATED BY COMMAS :\").split(\",\"))\n",
    "print(\"tuples\",t)\n",
    "l=len(t)\n",
    "c=0\n",
    "for i in range(l):\n",
    "    c=int(t[i])+c\n",
    "    avg=c/l\n",
    "print(\"Average value of the number is in given tuple :\",avg)"
   ]
  },
  {
   "cell_type": "code",
   "execution_count": 5,
   "id": "7306a6da",
   "metadata": {},
   "outputs": [
    {
     "name": "stdout",
     "output_type": "stream",
     "text": [
      "Enter Number seperated bycommas: 1,2,3,4,5,6\n",
      "Tuples ('1', '2', '3', '4', '5', '6')\n",
      "Enter the item to be removed:4\n",
      "('1', '2', '3', '5', '6')\n"
     ]
    }
   ],
   "source": [
    "#Remove an item from Tuple\n",
    "t=tuple(input(\"Enter Number seperated bycommas: \").split(\",\"))\n",
    "tn=list(t)\n",
    "print(\"Tuples\",t)\n",
    "d=input(\"Enter the item to be removed:\")\n",
    "for x in t:\n",
    "        if d in x:\n",
    "            tn.remove(x)\n",
    "            result=tuple(tn)\n",
    "print(result)\n",
    "        \n",
    "        "
   ]
  },
  {
   "cell_type": "code",
   "execution_count": 6,
   "id": "3760b0b0",
   "metadata": {},
   "outputs": [
    {
     "name": "stdout",
     "output_type": "stream",
     "text": [
      "Enter Number sepereted by commas:1,2,3,4,5,6\n",
      "Tuples ('1', '2', '3', '4', '5', '6')\n",
      "Third element in tuple : 3\n",
      "Third last element in tuple : 4\n"
     ]
    }
   ],
   "source": [
    "#Third and third last elemnt of Tuple\n",
    "t=tuple(input(\"Enter Number sepereted by commas:\").split(\",\"))\n",
    "print(\"Tuples\",t)\n",
    "print(\"Third element in tuple :\",t[2])\n",
    "print(\"Third last element in tuple :\",t[-3])\n"
   ]
  },
  {
   "cell_type": "code",
   "execution_count": null,
   "id": "e4d01d14",
   "metadata": {},
   "outputs": [],
   "source": []
  }
 ],
 "metadata": {
  "kernelspec": {
   "display_name": "Python 3 (ipykernel)",
   "language": "python",
   "name": "python3"
  },
  "language_info": {
   "codemirror_mode": {
    "name": "ipython",
    "version": 3
   },
   "file_extension": ".py",
   "mimetype": "text/x-python",
   "name": "python",
   "nbconvert_exporter": "python",
   "pygments_lexer": "ipython3",
   "version": "3.10.12"
  }
 },
 "nbformat": 4,
 "nbformat_minor": 5
}
